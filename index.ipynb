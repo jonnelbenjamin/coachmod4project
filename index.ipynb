{
 "cells": [
  {
   "cell_type": "code",
   "execution_count": 1,
   "metadata": {},
   "outputs": [],
   "source": [
    "import numpy as np\n",
    "import pandas as pd\n",
    "import matplotlib.pyplot as plt\n",
    "import json\n",
    "import seaborn as sns\n",
    "%matplotlib inline\n",
    "from sklearn.linear_model import LinearRegression\n",
    "from sklearn.model_selection import train_test_split\n",
    "pd.set_option('display.max_columns', None)"
   ]
  },
  {
   "cell_type": "code",
   "execution_count": 2,
   "metadata": {},
   "outputs": [
    {
     "name": "stderr",
     "output_type": "stream",
     "text": [
      "/usr/local/lib/python3.7/site-packages/IPython/core/interactiveshell.py:3058: DtypeWarning: Columns (1,2) have mixed types. Specify dtype option on import or set low_memory=False.\n",
      "  interactivity=interactivity, compiler=compiler, result=result)\n"
     ]
    }
   ],
   "source": [
    "king_county = pd.read_csv('./data/EXTR_RPSale.csv')"
   ]
  },
  {
   "cell_type": "code",
   "execution_count": 3,
   "metadata": {},
   "outputs": [],
   "source": [
    "df_KC = pd.DataFrame(king_county)"
   ]
  },
  {
   "cell_type": "code",
   "execution_count": 4,
   "metadata": {},
   "outputs": [
    {
     "data": {
      "text/html": [
       "<div>\n",
       "<style scoped>\n",
       "    .dataframe tbody tr th:only-of-type {\n",
       "        vertical-align: middle;\n",
       "    }\n",
       "\n",
       "    .dataframe tbody tr th {\n",
       "        vertical-align: top;\n",
       "    }\n",
       "\n",
       "    .dataframe thead th {\n",
       "        text-align: right;\n",
       "    }\n",
       "</style>\n",
       "<table border=\"1\" class=\"dataframe\">\n",
       "  <thead>\n",
       "    <tr style=\"text-align: right;\">\n",
       "      <th></th>\n",
       "      <th>ExciseTaxNbr</th>\n",
       "      <th>Major</th>\n",
       "      <th>Minor</th>\n",
       "      <th>DocumentDate</th>\n",
       "      <th>SalePrice</th>\n",
       "      <th>RecordingNbr</th>\n",
       "      <th>Volume</th>\n",
       "      <th>Page</th>\n",
       "      <th>PlatNbr</th>\n",
       "      <th>PlatType</th>\n",
       "      <th>PlatLot</th>\n",
       "      <th>PlatBlock</th>\n",
       "      <th>SellerName</th>\n",
       "      <th>BuyerName</th>\n",
       "      <th>PropertyType</th>\n",
       "      <th>PrincipalUse</th>\n",
       "      <th>SaleInstrument</th>\n",
       "      <th>AFForestLand</th>\n",
       "      <th>AFCurrentUseLand</th>\n",
       "      <th>AFNonProfitUse</th>\n",
       "      <th>AFHistoricProperty</th>\n",
       "      <th>SaleReason</th>\n",
       "      <th>PropertyClass</th>\n",
       "      <th>SaleWarning</th>\n",
       "    </tr>\n",
       "  </thead>\n",
       "  <tbody>\n",
       "    <tr>\n",
       "      <td>0</td>\n",
       "      <td>2324275</td>\n",
       "      <td>142205</td>\n",
       "      <td>9172</td>\n",
       "      <td>12/05/2007</td>\n",
       "      <td>650000</td>\n",
       "      <td>20071212001568</td>\n",
       "      <td></td>\n",
       "      <td></td>\n",
       "      <td></td>\n",
       "      <td></td>\n",
       "      <td></td>\n",
       "      <td></td>\n",
       "      <td>COLE VERN+JITKA                               ...</td>\n",
       "      <td>MINTON DAVID W+KIMBERLY A                     ...</td>\n",
       "      <td>3</td>\n",
       "      <td>6</td>\n",
       "      <td>3</td>\n",
       "      <td>N</td>\n",
       "      <td>N</td>\n",
       "      <td>N</td>\n",
       "      <td>N</td>\n",
       "      <td>1</td>\n",
       "      <td>8</td>\n",
       "      <td></td>\n",
       "    </tr>\n",
       "    <tr>\n",
       "      <td>1</td>\n",
       "      <td>952729</td>\n",
       "      <td>278470</td>\n",
       "      <td>10</td>\n",
       "      <td>07/10/1987</td>\n",
       "      <td>0</td>\n",
       "      <td>198707130302</td>\n",
       "      <td>067</td>\n",
       "      <td>051</td>\n",
       "      <td>730140</td>\n",
       "      <td>P</td>\n",
       "      <td>101-108,</td>\n",
       "      <td></td>\n",
       "      <td>SEAFIRST MTG CORP                             ...</td>\n",
       "      <td>SEATTLE FIRST NATIONAL BANK                   ...</td>\n",
       "      <td>3</td>\n",
       "      <td>0</td>\n",
       "      <td>15</td>\n",
       "      <td>N</td>\n",
       "      <td>N</td>\n",
       "      <td>N</td>\n",
       "      <td>N</td>\n",
       "      <td>18</td>\n",
       "      <td>3</td>\n",
       "      <td>45</td>\n",
       "    </tr>\n",
       "    <tr>\n",
       "      <td>2</td>\n",
       "      <td>952729</td>\n",
       "      <td>278470</td>\n",
       "      <td>40</td>\n",
       "      <td>07/10/1987</td>\n",
       "      <td>0</td>\n",
       "      <td>198707130302</td>\n",
       "      <td>067</td>\n",
       "      <td>051</td>\n",
       "      <td>730140</td>\n",
       "      <td>P</td>\n",
       "      <td>101-108,</td>\n",
       "      <td></td>\n",
       "      <td>SEAFIRST MTG CORP                             ...</td>\n",
       "      <td>SEATTLE FIRST NATIONAL BANK                   ...</td>\n",
       "      <td>3</td>\n",
       "      <td>0</td>\n",
       "      <td>15</td>\n",
       "      <td>N</td>\n",
       "      <td>N</td>\n",
       "      <td>N</td>\n",
       "      <td>N</td>\n",
       "      <td>18</td>\n",
       "      <td>3</td>\n",
       "      <td>45</td>\n",
       "    </tr>\n",
       "    <tr>\n",
       "      <td>3</td>\n",
       "      <td>952729</td>\n",
       "      <td>278470</td>\n",
       "      <td>100</td>\n",
       "      <td>07/10/1987</td>\n",
       "      <td>0</td>\n",
       "      <td>198707130302</td>\n",
       "      <td>067</td>\n",
       "      <td>051</td>\n",
       "      <td>730140</td>\n",
       "      <td>P</td>\n",
       "      <td>101-108,</td>\n",
       "      <td></td>\n",
       "      <td>SEAFIRST MTG CORP                             ...</td>\n",
       "      <td>SEATTLE FIRST NATIONAL BANK                   ...</td>\n",
       "      <td>3</td>\n",
       "      <td>0</td>\n",
       "      <td>15</td>\n",
       "      <td>N</td>\n",
       "      <td>N</td>\n",
       "      <td>N</td>\n",
       "      <td>N</td>\n",
       "      <td>18</td>\n",
       "      <td>3</td>\n",
       "      <td>45</td>\n",
       "    </tr>\n",
       "    <tr>\n",
       "      <td>4</td>\n",
       "      <td>952729</td>\n",
       "      <td>278470</td>\n",
       "      <td>190</td>\n",
       "      <td>07/10/1987</td>\n",
       "      <td>0</td>\n",
       "      <td>198707130302</td>\n",
       "      <td>067</td>\n",
       "      <td>051</td>\n",
       "      <td>730140</td>\n",
       "      <td>P</td>\n",
       "      <td>101-108,</td>\n",
       "      <td></td>\n",
       "      <td>SEAFIRST MTG CORP                             ...</td>\n",
       "      <td>SEATTLE FIRST NATIONAL BANK                   ...</td>\n",
       "      <td>3</td>\n",
       "      <td>0</td>\n",
       "      <td>15</td>\n",
       "      <td>N</td>\n",
       "      <td>N</td>\n",
       "      <td>N</td>\n",
       "      <td>N</td>\n",
       "      <td>18</td>\n",
       "      <td>3</td>\n",
       "      <td>45</td>\n",
       "    </tr>\n",
       "  </tbody>\n",
       "</table>\n",
       "</div>"
      ],
      "text/plain": [
       "   ExciseTaxNbr   Major Minor DocumentDate  SalePrice    RecordingNbr Volume  \\\n",
       "0       2324275  142205  9172   12/05/2007     650000  20071212001568          \n",
       "1        952729  278470    10   07/10/1987          0  198707130302      067   \n",
       "2        952729  278470    40   07/10/1987          0  198707130302      067   \n",
       "3        952729  278470   100   07/10/1987          0  198707130302      067   \n",
       "4        952729  278470   190   07/10/1987          0  198707130302      067   \n",
       "\n",
       "  Page PlatNbr PlatType         PlatLot PlatBlock  \\\n",
       "0                                                   \n",
       "1  051  730140        P  101-108,                   \n",
       "2  051  730140        P  101-108,                   \n",
       "3  051  730140        P  101-108,                   \n",
       "4  051  730140        P  101-108,                   \n",
       "\n",
       "                                          SellerName  \\\n",
       "0  COLE VERN+JITKA                               ...   \n",
       "1  SEAFIRST MTG CORP                             ...   \n",
       "2  SEAFIRST MTG CORP                             ...   \n",
       "3  SEAFIRST MTG CORP                             ...   \n",
       "4  SEAFIRST MTG CORP                             ...   \n",
       "\n",
       "                                           BuyerName  PropertyType  \\\n",
       "0  MINTON DAVID W+KIMBERLY A                     ...             3   \n",
       "1  SEATTLE FIRST NATIONAL BANK                   ...             3   \n",
       "2  SEATTLE FIRST NATIONAL BANK                   ...             3   \n",
       "3  SEATTLE FIRST NATIONAL BANK                   ...             3   \n",
       "4  SEATTLE FIRST NATIONAL BANK                   ...             3   \n",
       "\n",
       "   PrincipalUse  SaleInstrument AFForestLand AFCurrentUseLand AFNonProfitUse  \\\n",
       "0             6               3            N                N              N   \n",
       "1             0              15            N                N              N   \n",
       "2             0              15            N                N              N   \n",
       "3             0              15            N                N              N   \n",
       "4             0              15            N                N              N   \n",
       "\n",
       "  AFHistoricProperty  SaleReason  PropertyClass SaleWarning  \n",
       "0                  N           1              8              \n",
       "1                  N          18              3          45  \n",
       "2                  N          18              3          45  \n",
       "3                  N          18              3          45  \n",
       "4                  N          18              3          45  "
      ]
     },
     "execution_count": 4,
     "metadata": {},
     "output_type": "execute_result"
    }
   ],
   "source": [
    "df_KC.head()"
   ]
  },
  {
   "cell_type": "code",
   "execution_count": 5,
   "metadata": {},
   "outputs": [
    {
     "name": "stdout",
     "output_type": "stream",
     "text": [
      "Total number of Sales Price > $0 = 1337800\n",
      "Total number of Sales Price = $0 = 706282\n",
      "Percentage of missing values = 0.5279428913140978\n"
     ]
    }
   ],
   "source": [
    "sales_price_dict = dict(df_KC.SalePrice.value_counts())\n",
    "total = 0\n",
    "for key, val in sales_price_dict.items():\n",
    "    if key != 0:\n",
    "        total += val\n",
    "print(\"Total number of Sales Price > $0 = {}\".format(total))\n",
    "print(\"Total number of Sales Price = $0 = {}\".format(sales_price_dict[0]))\n",
    "print(\"Percentage of missing values = {}\".format(sales_price_dict[0]/total))"
   ]
  },
  {
   "cell_type": "code",
   "execution_count": null,
   "metadata": {},
   "outputs": [],
   "source": [
    "df_KC.info()"
   ]
  },
  {
   "cell_type": "code",
   "execution_count": null,
   "metadata": {},
   "outputs": [],
   "source": [
    "df_KC.isnull().sum()"
   ]
  },
  {
   "cell_type": "code",
   "execution_count": 6,
   "metadata": {},
   "outputs": [],
   "source": [
    "kc_columns = list(df_KC.columns)\n",
    "str_columns = ['DocumentDate', 'PlatType', 'PlatLot', 'SellerName', 'BuyerName', 'AFForestLand', 'AFCurrentUseLand', 'AFNonProfitUse', 'AFHistoricProperty']\n",
    "[kc_columns.remove(x) for x in str_columns]\n",
    "kc_int_columns = kc_columns\n",
    "kc_str_columns = ['PlatType', 'PlatLot', 'SellerName', 'BuyerName', 'AFForestLand', 'AFCurrentUseLand', 'AFNonProfitUse', 'AFHistoricProperty']"
   ]
  },
  {
   "cell_type": "code",
   "execution_count": null,
   "metadata": {},
   "outputs": [],
   "source": [
    "kc_int_columns"
   ]
  },
  {
   "cell_type": "code",
   "execution_count": null,
   "metadata": {},
   "outputs": [],
   "source": [
    "kc_str_columns"
   ]
  },
  {
   "cell_type": "code",
   "execution_count": 7,
   "metadata": {},
   "outputs": [],
   "source": [
    "for column in kc_int_columns:\n",
    "    df_KC[column] = pd.to_numeric(column, errors='coerce')"
   ]
  },
  {
   "cell_type": "code",
   "execution_count": null,
   "metadata": {},
   "outputs": [],
   "source": [
    "df_KC.DocumentDate = [pd.to_datetime(x, format='%m%d%Y', errors='coerce') for x in df_KC.DocumentDate]"
   ]
  },
  {
   "cell_type": "code",
   "execution_count": null,
   "metadata": {},
   "outputs": [],
   "source": [
    "for column in kc_str_columns:\n",
    "    print(column)\n",
    "    df_KC[column] = df_KC[column].astype(str)\n",
    "    \n",
    "# df_KC = df_KC.to_string(columns = kc_str_columns)\n",
    "# total_rows['ColumnID'] = total_rows['ColumnID'].astype(str)"
   ]
  },
  {
   "cell_type": "code",
   "execution_count": null,
   "metadata": {},
   "outputs": [],
   "source": [
    "correlation = df.corr()\n",
    "plt.figure(figsize=(14,12))\n",
    "heatmap = sns.heatmap(correlation, annot=True, linewidths=0, vmin=-1, cmap=\"RdBu_r\")"
   ]
  },
  {
   "cell_type": "code",
   "execution_count": null,
   "metadata": {},
   "outputs": [],
   "source": []
  }
 ],
 "metadata": {
  "kernelspec": {
   "display_name": "Python 3",
   "language": "python",
   "name": "python3"
  },
  "language_info": {
   "codemirror_mode": {
    "name": "ipython",
    "version": 3
   },
   "file_extension": ".py",
   "mimetype": "text/x-python",
   "name": "python",
   "nbconvert_exporter": "python",
   "pygments_lexer": "ipython3",
   "version": "3.7.4"
  }
 },
 "nbformat": 4,
 "nbformat_minor": 4
}
