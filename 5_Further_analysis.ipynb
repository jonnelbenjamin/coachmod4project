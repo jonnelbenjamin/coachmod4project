{
 "cells": [
  {
   "cell_type": "code",
   "execution_count": null,
   "metadata": {},
   "outputs": [],
   "source": [
    "import numpy as np\n",
    "import pandas as pd\n",
    "import matplotlib.pyplot as plt\n",
    "\n",
    "from sklearn.linear_model import LinearRegression, Lasso, Ridge\n",
    "from sklearn.model_selection import train_test_split, GridSearchCV\n",
    "from sklearn.metrics import r2_score, mean_squared_error\n",
    "\n",
    "import statsmodels.api as sm\n",
    "from statsmodels.stats.outliers_influence import variance_inflation_factor\n",
    "\n",
    "from scipy import stats\n",
    "from yellowbrick.regressor import ResidualsPlot, PredictionError\n",
    "\n",
    "import math"
   ]
  },
  {
   "cell_type": "markdown",
   "metadata": {},
   "source": [
    "## Read in Pickle"
   ]
  },
  {
   "cell_type": "code",
   "execution_count": null,
   "metadata": {},
   "outputs": [],
   "source": [
    "cleaned_KC = pd.read_pickle('./data/cleaned_KC.pkl')"
   ]
  },
  {
   "cell_type": "markdown",
   "metadata": {},
   "source": [
    "# Scale price feature through logarithmic transformations"
   ]
  },
  {
   "cell_type": "code",
   "execution_count": null,
   "metadata": {},
   "outputs": [],
   "source": [
    "cleaned_KC.price = cleaned_KC.price.map(lambda x: np.log(x))"
   ]
  },
  {
   "cell_type": "code",
   "execution_count": null,
   "metadata": {},
   "outputs": [],
   "source": [
    "# Created a new column that calculates how much square feet exists for each bedroom\n",
    "cleaned_KC['sqft_living/bedroom'] = (cleaned_KC['sqft_living']/cleaned_KC['bedrooms']).round(2)\n",
    "\n",
    "# Round the number of bathrooms to the nearest integers to reduce noise when creating dummy variables\n",
    "cleaned_KC['bathrooms'] = cleaned_KC['bathrooms'].map(lambda x : np.where(x - math.floor(x) >= .5,math.ceil(x),math.floor(x))) \n",
    "\n",
    "# Drop all columns not relevant to our further analysis\n",
    "cleaned_KC = cleaned_KC.drop(axis=1, columns=['id','date','zipcode','yr_built','grade','condition','view','floors','sqft_lot','sqft_living15','sqft_lot15'])\n",
    "cleaned_KC.head()"
   ]
  },
  {
   "cell_type": "code",
   "execution_count": null,
   "metadata": {},
   "outputs": [],
   "source": [
    "cleaned_KC.corr()['price'].sort_values(ascending=False)"
   ]
  },
  {
   "cell_type": "code",
   "execution_count": null,
   "metadata": {
    "scrolled": true
   },
   "outputs": [],
   "source": [
    "categorial_columns = ['bathrooms','bedrooms']\n",
    "non_categorial_columns = ['price','sqft_living', 'sqft_living/bedroom']\n",
    "\n",
    "# This replaces categorical columns with dummy variables, and drops non categorical columns\n",
    "dummies_df = pd.get_dummies(cleaned_KC, columns=categorial_columns).drop(columns=['price'])\n",
    "dummies_df"
   ]
  },
  {
   "cell_type": "markdown",
   "metadata": {},
   "source": [
    "We are going to run a for loop through each feature to run a multiple regression tests and compare rsquared values"
   ]
  },
  {
   "cell_type": "code",
   "execution_count": null,
   "metadata": {},
   "outputs": [],
   "source": [
    "for column in dummies_df.columns:\n",
    "\n",
    "\n",
    "    # This sets X to a dataframe consisting of columns with dummy variables & without extra columnsmap\n",
    "    X = dummies_df[column].values.reshape(-1, 1)\n",
    "\n",
    "    # this simply sets y to the price column of the dataframe\n",
    "    y = cleaned_KC['price'].values.reshape(-1, 1)\n",
    "\n",
    "    # Creates a Ridge Regression object\n",
    "    ridge = Ridge()\n",
    "\n",
    "    # Train the Regression object to fit a line with train data\n",
    "    ridge.fit(X, y)\n",
    "\n",
    "    # using that line, predict y values against x_test values.\n",
    "    y_pred = ridge.predict(X)\n",
    "\n",
    "    # Use sklearn.metrics.r2_score to determine r-squared based on y_test values and y_pred values.\n",
    "    r_squared = r2_score(y, y_pred).round(3)\n",
    "    print('r-squared value for {}: {}'.format(column,r_squared))"
   ]
  },
  {
   "cell_type": "markdown",
   "metadata": {},
   "source": [
    "Having 2 bathrooms is the least predictive compared to the other amount of bathrooms"
   ]
  },
  {
   "cell_type": "markdown",
   "metadata": {},
   "source": [
    "Would have been awesome to do predictions on price using zipcodes + lot15 or even geomapping lat/long data which we dropped. If we could run categorical tests for number of bathrooms and bedrooms. "
   ]
  },
  {
   "cell_type": "markdown",
   "metadata": {},
   "source": [
    "Things we can do to improve the model:\n",
    "- Feature Engineering\n",
    "- Train Test Split at beginning of Data Cleaning to prevent Data Leakage\n",
    "- Properly remove outliers from dataset - not using Zscores since we can't assume a normal distribution of the features.\n",
    "- Dummy Variables vs onehotencoder\n",
    "- Cross Validation"
   ]
  },
  {
   "cell_type": "code",
   "execution_count": null,
   "metadata": {},
   "outputs": [],
   "source": []
  }
 ],
 "metadata": {
  "kernelspec": {
   "display_name": "Python 3",
   "language": "python",
   "name": "python3"
  },
  "language_info": {
   "codemirror_mode": {
    "name": "ipython",
    "version": 3
   },
   "file_extension": ".py",
   "mimetype": "text/x-python",
   "name": "python",
   "nbconvert_exporter": "python",
   "pygments_lexer": "ipython3",
   "version": "3.7.4"
  }
 },
 "nbformat": 4,
 "nbformat_minor": 4
}
