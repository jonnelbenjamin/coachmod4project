{
 "cells": [
  {
   "cell_type": "code",
   "execution_count": 1,
   "metadata": {},
   "outputs": [],
   "source": [
    "import numpy as np\n",
    "import pandas as pd\n",
    "import matplotlib.pyplot as plt\n",
    "import seaborn as sns\n",
    "%matplotlib inline\n",
    "from sklearn.linear_model import LinearRegression\n",
    "from sklearn.model_selection import train_test_split\n",
    "pd.set_option('display.max_columns', None)\n",
    "import missingno as msno\n",
    "import pdb\n",
    "from scipy import stats\n",
    "from sklearn.metrics import r2_score, mean_squared_error\n",
    "import statsmodels.api as sm\n",
    "from statsmodels.stats.outliers_influence import variance_inflation_factor"
   ]
  },
  {
   "cell_type": "code",
   "execution_count": 2,
   "metadata": {},
   "outputs": [],
   "source": [
    "cleaned_KC = pd.read_pickle('./data/cleaned_KC.pkl')"
   ]
  },
  {
   "cell_type": "code",
   "execution_count": 3,
   "metadata": {},
   "outputs": [
    {
     "data": {
      "text/plain": [
       "price            1.000000\n",
       "sqft_living      0.677350\n",
       "grade            0.668031\n",
       "sqft_living15    0.593302\n",
       "bathrooms        0.488813\n",
       "view             0.387338\n",
       "bedrooms         0.301746\n",
       "floors           0.257418\n",
       "sqft_lot         0.083969\n",
       "sqft_lot15       0.077855\n",
       "yr_built         0.046841\n",
       "condition        0.045438\n",
       "id              -0.015326\n",
       "zipcode         -0.046692\n",
       "Name: price, dtype: float64"
      ]
     },
     "execution_count": 3,
     "metadata": {},
     "output_type": "execute_result"
    }
   ],
   "source": [
    "cleaned_KC.corr()['price'].sort_values(ascending=False)"
   ]
  },
  {
   "cell_type": "markdown",
   "metadata": {},
   "source": [
    "Sqft_living and sqft_living15 are thought to have multi-collinearity, thus we will drop sqft_living15"
   ]
  },
  {
   "cell_type": "code",
   "execution_count": 4,
   "metadata": {},
   "outputs": [],
   "source": [
    "categorical_features = ['bathrooms','bedrooms','zipcode','yr_built','grade','condition','view','floors']"
   ]
  },
  {
   "cell_type": "code",
   "execution_count": 5,
   "metadata": {},
   "outputs": [
    {
     "name": "stdout",
     "output_type": "stream",
     "text": [
      "<class 'pandas.core.frame.DataFrame'>\n",
      "Int64Index: 21301 entries, 0 to 21347\n",
      "Data columns (total 15 columns):\n",
      "id               21301 non-null int64\n",
      "date             21301 non-null object\n",
      "price            21301 non-null float64\n",
      "bedrooms         21301 non-null category\n",
      "bathrooms        21301 non-null category\n",
      "sqft_living      21301 non-null int64\n",
      "sqft_lot         21301 non-null int64\n",
      "floors           21301 non-null category\n",
      "view             21301 non-null category\n",
      "condition        21301 non-null category\n",
      "grade            21301 non-null category\n",
      "yr_built         21301 non-null category\n",
      "zipcode          21301 non-null category\n",
      "sqft_living15    21301 non-null int64\n",
      "sqft_lot15       21301 non-null int64\n",
      "dtypes: category(8), float64(1), int64(5), object(1)\n",
      "memory usage: 1.5+ MB\n"
     ]
    }
   ],
   "source": [
    "# converts all categorical features to a categorical type\n",
    "for feature in categorical_features:\n",
    "    cleaned_KC[feature] = cleaned_KC[feature].astype('category')\n",
    "cleaned_KC.info()"
   ]
  },
  {
   "cell_type": "code",
   "execution_count": 6,
   "metadata": {},
   "outputs": [
    {
     "data": {
      "text/html": [
       "<div>\n",
       "<style scoped>\n",
       "    .dataframe tbody tr th:only-of-type {\n",
       "        vertical-align: middle;\n",
       "    }\n",
       "\n",
       "    .dataframe tbody tr th {\n",
       "        vertical-align: top;\n",
       "    }\n",
       "\n",
       "    .dataframe thead th {\n",
       "        text-align: right;\n",
       "    }\n",
       "</style>\n",
       "<table border=\"1\" class=\"dataframe\">\n",
       "  <thead>\n",
       "    <tr style=\"text-align: right;\">\n",
       "      <th></th>\n",
       "      <th>VIF Factor</th>\n",
       "      <th>features</th>\n",
       "    </tr>\n",
       "  </thead>\n",
       "  <tbody>\n",
       "    <tr>\n",
       "      <td>0</td>\n",
       "      <td>6.6</td>\n",
       "      <td>price</td>\n",
       "    </tr>\n",
       "    <tr>\n",
       "      <td>1</td>\n",
       "      <td>7.0</td>\n",
       "      <td>sqft_living</td>\n",
       "    </tr>\n",
       "    <tr>\n",
       "      <td>2</td>\n",
       "      <td>2.3</td>\n",
       "      <td>sqft_lot</td>\n",
       "    </tr>\n",
       "    <tr>\n",
       "      <td>3</td>\n",
       "      <td>2.5</td>\n",
       "      <td>sqft_lot15</td>\n",
       "    </tr>\n",
       "  </tbody>\n",
       "</table>\n",
       "</div>"
      ],
      "text/plain": [
       "   VIF Factor     features\n",
       "0         6.6        price\n",
       "1         7.0  sqft_living\n",
       "2         2.3     sqft_lot\n",
       "3         2.5   sqft_lot15"
      ]
     },
     "execution_count": 6,
     "metadata": {},
     "output_type": "execute_result"
    }
   ],
   "source": [
    "# select only columns with datatype int64 or float 64\n",
    "numeric_cleaned_KC = cleaned_KC.select_dtypes(include=['int64','float64'])\n",
    "\n",
    "# then drop the sqft_living15 and id column to reduce noise.\n",
    "numeric_cleaned_KC = numeric_cleaned_KC.drop(axis=1, columns=['sqft_living15', 'id'])\n",
    "\n",
    "vif = pd.DataFrame()\n",
    "# For each column,run a variance_inflaction_factor against all other columns to get a VIF Factor score\n",
    "vif[\"VIF Factor\"] = [variance_inflation_factor(numeric_cleaned_KC.values, i) for i in range(numeric_cleaned_KC.shape[1])]\n",
    "\n",
    "# simply label the scores with their related columns\n",
    "vif[\"features\"] = numeric_cleaned_KC.columns\n",
    "\n",
    "vif.round(1)"
   ]
  },
  {
   "cell_type": "markdown",
   "metadata": {},
   "source": [
    "sqft_living has a positive correlation with price\n",
    "bathrooms has a positive correlation with price\n",
    "sqft_living15 has a positive correlation with price"
   ]
  },
  {
   "cell_type": "code",
   "execution_count": 7,
   "metadata": {},
   "outputs": [
    {
     "data": {
      "image/png": "[encoded data removed]",
      "text/plain": [
       "<Figure size 1152x576 with 1 Axes>"
      ]
     },
     "metadata": {
      "needs_background": "light"
     },
     "output_type": "display_data"
    }
   ],
   "source": [
    "# What does .reshape do?\n",
    "X = cleaned_KC['sqft_living'].values.reshape(-1,1)\n",
    "y = cleaned_KC['price'].values.reshape(-1,1)\n",
    "\n",
    "# Create a Linear Regression object and fit a line using X and y\n",
    "reg = LinearRegression()\n",
    "reg.fit(X, y)\n",
    "\n",
    "# using that line, make predictions for y using X\n",
    "predictions = reg.predict(X)\n",
    "\n",
    "# Make a 16x8 figure that has...\n",
    "plt.figure(figsize=(16, 8))\n",
    "\n",
    "# ...a scatter plot of sqft_living vs price...\n",
    "plt.scatter(\n",
    "    cleaned_KC['sqft_living'],\n",
    "    cleaned_KC['price'],\n",
    "    c='black'\n",
    ")\n",
    "\n",
    "# ...plot the regression line...\n",
    "plt.plot(\n",
    "    cleaned_KC['sqft_living'],\n",
    "    predictions,\n",
    "    c='blue',\n",
    "    linewidth=1\n",
    ")\n",
    "\n",
    "# ...set the labels and show\n",
    "plt.xlabel(\"Sqft. Living\")\n",
    "plt.ylabel(\"Price)\")\n",
    "plt.show()"
   ]
  },
  {
   "cell_type": "markdown",
   "metadata": {},
   "source": [
    "Here we run a Linear Regression on Price vs Sqft_living"
   ]
  },
  {
   "cell_type": "code",
   "execution_count": 8,
   "metadata": {},
   "outputs": [
    {
     "name": "stdout",
     "output_type": "stream",
     "text": [
      "                            OLS Regression Results                            \n",
      "==============================================================================\n",
      "Dep. Variable:                  price   R-squared:                       0.459\n",
      "Model:                            OLS   Adj. R-squared:                  0.459\n",
      "Method:                 Least Squares   F-statistic:                 1.806e+04\n",
      "Date:                Mon, 30 Sep 2019   Prob (F-statistic):               0.00\n",
      "Time:                        12:50:00   Log-Likelihood:            -2.9433e+05\n",
      "No. Observations:               21301   AIC:                         5.887e+05\n",
      "Df Residuals:                   21299   BIC:                         5.887e+05\n",
      "Df Model:                           1                                         \n",
      "Covariance Type:            nonrobust                                         \n",
      "===============================================================================\n",
      "                  coef    std err          t      P>|t|      [0.025      0.975]\n",
      "-------------------------------------------------------------------------------\n",
      "const       -2283.2967   4289.244     -0.532      0.595   -1.07e+04    6123.945\n",
      "sqft_living   259.0821      1.928    134.374      0.000     255.303     262.861\n",
      "==============================================================================\n",
      "Omnibus:                    11308.248   Durbin-Watson:                   1.977\n",
      "Prob(Omnibus):                  0.000   Jarque-Bera (JB):           159818.403\n",
      "Skew:                           2.234   Prob(JB):                         0.00\n",
      "Kurtosis:                      15.653   Cond. No.                     5.74e+03\n",
      "==============================================================================\n",
      "\n",
      "Warnings:\n",
      "[1] Standard Errors assume that the covariance matrix of the errors is correctly specified.\n",
      "[2] The condition number is large, 5.74e+03. This might indicate that there are\n",
      "strong multicollinearity or other numerical problems.\n"
     ]
    },
    {
     "name": "stderr",
     "output_type": "stream",
     "text": [
      "/usr/local/lib/python3.7/site-packages/numpy/core/fromnumeric.py:2495: FutureWarning: Method .ptp is deprecated and will be removed in a future version. Use numpy.ptp instead.\n",
      "  return ptp(axis=axis, out=out, **kwargs)\n"
     ]
    }
   ],
   "source": [
    "X = cleaned_KC['sqft_living']\n",
    "y = cleaned_KC['price']\n",
    "X2 = sm.add_constant(X)\n",
    "est = sm.OLS(y, X2).fit()\n",
    "print(est.summary())"
   ]
  },
  {
   "cell_type": "markdown",
   "metadata": {},
   "source": [
    "Here we run a Multiple Linear Regression on Price vs Sqft_living, Bedrooms, Bathrooms, Yr_built, Zipcode, grade, condition, view, floors"
   ]
  },
  {
   "cell_type": "code",
   "execution_count": 9,
   "metadata": {},
   "outputs": [
    {
     "name": "stdout",
     "output_type": "stream",
     "text": [
      "                            OLS Regression Results                            \n",
      "==============================================================================\n",
      "Dep. Variable:                  price   R-squared:                       0.628\n",
      "Model:                            OLS   Adj. R-squared:                  0.628\n",
      "Method:                 Least Squares   F-statistic:                     3996.\n",
      "Date:                Mon, 30 Sep 2019   Prob (F-statistic):               0.00\n",
      "Time:                        12:50:02   Log-Likelihood:            -2.9033e+05\n",
      "No. Observations:               21301   AIC:                         5.807e+05\n",
      "Df Residuals:                   21291   BIC:                         5.808e+05\n",
      "Df Model:                           9                                         \n",
      "Covariance Type:            nonrobust                                         \n",
      "===============================================================================\n",
      "                  coef    std err          t      P>|t|      [0.025      0.975]\n",
      "-------------------------------------------------------------------------------\n",
      "price        8.165e+06   2.83e+06      2.886      0.004    2.62e+06    1.37e+07\n",
      "sqft_living   144.2137      3.160     45.644      0.000     138.021     150.407\n",
      "bathrooms    3.837e+04   3316.238     11.571      0.000    3.19e+04    4.49e+04\n",
      "bedrooms    -3.596e+04   2054.925    -17.497      0.000      -4e+04   -3.19e+04\n",
      "zipcode       -21.8923     28.377     -0.771      0.440     -77.513      33.729\n",
      "yr_built    -3481.1252     66.624    -52.251      0.000   -3611.713   -3350.538\n",
      "grade        1.286e+05   2025.876     63.475      0.000    1.25e+05    1.33e+05\n",
      "condition    2.048e+04   2317.172      8.837      0.000    1.59e+04     2.5e+04\n",
      "view         6.836e+04   1962.319     34.836      0.000    6.45e+04    7.22e+04\n",
      "floors       3.323e+04   3241.576     10.253      0.000    2.69e+04    3.96e+04\n",
      "==============================================================================\n",
      "Omnibus:                    11455.504   Durbin-Watson:                   1.972\n",
      "Prob(Omnibus):                  0.000   Jarque-Bera (JB):           216832.195\n",
      "Skew:                           2.171   Prob(JB):                         0.00\n",
      "Kurtosis:                      18.015   Cond. No.                     2.02e+08\n",
      "==============================================================================\n",
      "\n",
      "Warnings:\n",
      "[1] Standard Errors assume that the covariance matrix of the errors is correctly specified.\n",
      "[2] The condition number is large, 2.02e+08. This might indicate that there are\n",
      "strong multicollinearity or other numerical problems.\n"
     ]
    },
    {
     "name": "stderr",
     "output_type": "stream",
     "text": [
      "/usr/local/lib/python3.7/site-packages/ipykernel_launcher.py:3: FutureWarning: arrays to stack must be passed as a \"sequence\" type such as list or tuple. Support for non-sequence iterables such as generators is deprecated as of NumPy 1.16 and will raise an error in the future.\n",
      "  This is separate from the ipykernel package so we can avoid doing imports until\n"
     ]
    }
   ],
   "source": [
    "col = categorical_features\n",
    "col.insert(0,'sqft_living')\n",
    "X = np.column_stack((cleaned_KC[x] for x in col))\n",
    "y = cleaned_KC['price']\n",
    "X2 = sm.add_constant(X)\n",
    "est = sm.OLS(y, X2).fit()\n",
    "col.insert(0,'price')\n",
    "print(est.summary(xname=col))"
   ]
  },
  {
   "cell_type": "markdown",
   "metadata": {},
   "source": [
    "Previous R-squared & Adj. R-Squared = .52\n",
    "New R-square value = .628"
   ]
  },
  {
   "cell_type": "markdown",
   "metadata": {},
   "source": [
    "Here we attepy to run Train/Test split"
   ]
  },
  {
   "cell_type": "code",
   "execution_count": 10,
   "metadata": {},
   "outputs": [],
   "source": [
    "categorial_columns = ['bathrooms','bedrooms','grade','view','floors']\n",
    "non_categorial_columns = ['id','date','price','sqft_lot','condition','yr_built','zipcode','sqft_living15', 'sqft_lot15']\n",
    "\n",
    "# This replaces categorical columns with dummy variables, and drops non categorical columns\n",
    "dummies_df = pd.get_dummies(cleaned_KC, columns=categorial_columns).drop(columns=non_categorial_columns)"
   ]
  },
  {
   "cell_type": "code",
   "execution_count": 11,
   "metadata": {},
   "outputs": [],
   "source": [
    "# This sets X to a dataframe consisting of columns with dummy variables & without extra columns.\n",
    "X = dummies_df\n",
    "\n",
    "# this simply sets y to the price column of the dataframe\n",
    "y = cleaned_KC['price']\n",
    "\n",
    "# This runs a train/test split with .20 of the data. \n",
    "X_train, X_test, y_train, y_test = train_test_split(X, y, test_size = 0.2)"
   ]
  },
  {
   "cell_type": "code",
   "execution_count": 12,
   "metadata": {},
   "outputs": [
    {
     "name": "stdout",
     "output_type": "stream",
     "text": [
      "                            OLS Regression Results                            \n",
      "==============================================================================\n",
      "Dep. Variable:                  price   R-squared:                       0.616\n",
      "Model:                            OLS   Adj. R-squared:                  0.615\n",
      "Method:                 Least Squares   F-statistic:                     681.6\n",
      "Date:                Mon, 30 Sep 2019   Prob (F-statistic):               0.00\n",
      "Time:                        12:50:07   Log-Likelihood:            -2.3251e+05\n",
      "No. Observations:               17040   AIC:                         4.651e+05\n",
      "Df Residuals:                   16999   BIC:                         4.654e+05\n",
      "Df Model:                          40                                         \n",
      "Covariance Type:            nonrobust                                         \n",
      "==================================================================================\n",
      "                     coef    std err          t      P>|t|      [0.025      0.975]\n",
      "----------------------------------------------------------------------------------\n",
      "const           4.175e+05   1.82e+04     22.959      0.000    3.82e+05    4.53e+05\n",
      "sqft_living      138.5696      3.742     37.031      0.000     131.235     145.904\n",
      "bathrooms_0.5  -4.158e+04   1.11e+05     -0.374      0.709    -2.6e+05    1.77e+05\n",
      "bathrooms_0.75 -5570.7208   2.82e+04     -0.198      0.843   -6.08e+04    4.96e+04\n",
      "bathrooms_1.0   3242.4510   1.06e+04      0.305      0.760   -1.76e+04     2.4e+04\n",
      "bathrooms_1.25  1.086e+04   7.32e+04      0.148      0.882   -1.33e+05    1.54e+05\n",
      "bathrooms_1.5  -1.353e+04   1.11e+04     -1.216      0.224   -3.54e+04    8287.453\n",
      "bathrooms_1.75 -9206.7599   1.04e+04     -0.889      0.374   -2.95e+04    1.11e+04\n",
      "bathrooms_2.0  -5510.2321   1.07e+04     -0.517      0.605   -2.64e+04    1.54e+04\n",
      "bathrooms_2.25 -9241.4112   1.05e+04     -0.877      0.380   -2.99e+04    1.14e+04\n",
      "bathrooms_2.5  -5.449e+04   9904.802     -5.501      0.000   -7.39e+04   -3.51e+04\n",
      "bathrooms_2.75 -1.785e+04   1.13e+04     -1.578      0.114      -4e+04    4317.145\n",
      "bathrooms_3.0   1.772e+04   1.22e+04      1.447      0.148   -6289.758    4.17e+04\n",
      "bathrooms_3.25  7.654e+04   1.31e+04      5.832      0.000    5.08e+04    1.02e+05\n",
      "bathrooms_3.5   2077.1472   1.27e+04      0.164      0.870   -2.28e+04     2.7e+04\n",
      "bathrooms_3.75  1.464e+05   2.01e+04      7.267      0.000    1.07e+05    1.86e+05\n",
      "bathrooms_4.0   1.451e+05   2.12e+04      6.856      0.000    1.04e+05    1.87e+05\n",
      "bathrooms_4.25  1.726e+05   2.83e+04      6.095      0.000    1.17e+05    2.28e+05\n",
      "bedrooms_1      1.059e+05   1.47e+04      7.192      0.000    7.71e+04    1.35e+05\n",
      "bedrooms_2      1.213e+05   6223.453     19.495      0.000    1.09e+05    1.34e+05\n",
      "bedrooms_3      6.729e+04   5282.439     12.739      0.000    5.69e+04    7.76e+04\n",
      "bedrooms_4      5.631e+04   5735.216      9.818      0.000    4.51e+04    6.76e+04\n",
      "bedrooms_5      5.402e+04   7506.542      7.197      0.000    3.93e+04    6.87e+04\n",
      "bedrooms_6      1.265e+04   1.43e+04      0.883      0.378   -1.54e+04    4.07e+04\n",
      "grade_3        -2.616e+05   1.89e+05     -1.384      0.166   -6.32e+05    1.09e+05\n",
      "grade_4        -3.841e+05   4.64e+04     -8.285      0.000   -4.75e+05   -2.93e+05\n",
      "grade_5        -3.616e+05   2.54e+04    -14.251      0.000   -4.11e+05   -3.12e+05\n",
      "grade_6        -3.223e+05   2.22e+04    -14.541      0.000   -3.66e+05   -2.79e+05\n",
      "grade_7        -2.531e+05   2.17e+04    -11.664      0.000   -2.96e+05   -2.11e+05\n",
      "grade_8        -1.673e+05   2.17e+04     -7.724      0.000    -2.1e+05   -1.25e+05\n",
      "grade_9        -3.609e+04   2.19e+04     -1.651      0.099   -7.89e+04    6762.495\n",
      "grade_10        1.224e+05   2.25e+04      5.446      0.000    7.83e+04    1.66e+05\n",
      "grade_11        3.235e+05   2.48e+04     13.031      0.000    2.75e+05    3.72e+05\n",
      "grade_12        7.148e+05   3.52e+04     20.306      0.000    6.46e+05    7.84e+05\n",
      "grade_13        1.043e+06    1.1e+05      9.456      0.000    8.27e+05    1.26e+06\n",
      "view_0.0       -9.586e+04   5587.063    -17.157      0.000   -1.07e+05   -8.49e+04\n",
      "view_1.0        5.811e+04   1.15e+04      5.039      0.000    3.55e+04    8.07e+04\n",
      "view_2.0        -412.0145   8019.724     -0.051      0.959   -1.61e+04    1.53e+04\n",
      "view_3.0        6.909e+04   1.01e+04      6.874      0.000    4.94e+04    8.88e+04\n",
      "view_4.0        3.866e+05    1.2e+04     32.202      0.000    3.63e+05     4.1e+05\n",
      "floors_1.0      2.952e+04   1.47e+04      2.012      0.044     762.408    5.83e+04\n",
      "floors_1.5      1.205e+05   1.53e+04      7.894      0.000    9.06e+04     1.5e+05\n",
      "floors_2.0     -2005.5208   1.46e+04     -0.137      0.891   -3.07e+04    2.67e+04\n",
      "floors_2.5      1.449e+05   2.13e+04      6.789      0.000    1.03e+05    1.87e+05\n",
      "floors_3.0       5.67e+04   1.64e+04      3.465      0.001    2.46e+04    8.88e+04\n",
      "floors_3.5      6.794e+04   7.78e+04      0.873      0.383   -8.46e+04    2.21e+05\n",
      "==============================================================================\n",
      "Omnibus:                     7693.198   Durbin-Watson:                   2.011\n",
      "Prob(Omnibus):                  0.000   Jarque-Bera (JB):           100591.092\n",
      "Skew:                           1.823   Prob(JB):                         0.00\n",
      "Kurtosis:                      14.331   Cond. No.                     1.47e+16\n",
      "==============================================================================\n",
      "\n",
      "Warnings:\n",
      "[1] Standard Errors assume that the covariance matrix of the errors is correctly specified.\n",
      "[2] The smallest eigenvalue is 3.88e-22. This might indicate that there are\n",
      "strong multicollinearity problems or that the design matrix is singular.\n"
     ]
    }
   ],
   "source": [
    "# Simply adding a y-intercept column.\n",
    "X2 = sm.add_constant(X_train)\n",
    "\n",
    "# Using statsmodels, run an Ordinary Least Squares test using the array of y values, and the dataframe of x_test values and fit a line to it. \n",
    "est = sm.OLS(y_train, X2).fit()\n",
    "print(est.summary())"
   ]
  },
  {
   "cell_type": "code",
   "execution_count": 13,
   "metadata": {},
   "outputs": [
    {
     "data": {
      "text/plain": [
       "0.6237849298395934"
      ]
     },
     "execution_count": 13,
     "metadata": {},
     "output_type": "execute_result"
    }
   ],
   "source": [
    "# Creates a Linear Regression object\n",
    "lin_reg = LinearRegression()\n",
    "\n",
    "# Train the Regression object to fit a line with train data\n",
    "lin_reg.fit(X_train, y_train)\n",
    "\n",
    "# using that line, predict y values against x_test values.\n",
    "y_pred = lin_reg.predict(X_test)\n",
    "\n",
    "# Use sklearn.metrics.r2_score to determine r-squared based on y_test values and y_pred values.\n",
    "r2_score(y_test, y_pred)"
   ]
  },
  {
   "cell_type": "code",
   "execution_count": 14,
   "metadata": {},
   "outputs": [
    {
     "data": {
      "text/plain": [
       "41140945097.0874"
      ]
     },
     "execution_count": 14,
     "metadata": {},
     "output_type": "execute_result"
    }
   ],
   "source": [
    "mean_squared_error(y_test, y_pred)"
   ]
  }
 ],
 "metadata": {
  "kernelspec": {
   "display_name": "Python 3",
   "language": "python",
   "name": "python3"
  },
  "language_info": {
   "codemirror_mode": {
    "name": "ipython",
    "version": 3
   },
   "file_extension": ".py",
   "mimetype": "text/x-python",
   "name": "python",
   "nbconvert_exporter": "python",
   "pygments_lexer": "ipython3",
   "version": "3.7.4"
  }
 },
 "nbformat": 4,
 "nbformat_minor": 4
}
