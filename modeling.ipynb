{
 "cells": [
  {
   "cell_type": "code",
   "execution_count": 1,
   "metadata": {},
   "outputs": [
    {
     "name": "stderr",
     "output_type": "stream",
     "text": [
      "/Users/jbenjamin/anaconda3/lib/python3.7/importlib/_bootstrap.py:219: RuntimeWarning: numpy.ufunc size changed, may indicate binary incompatibility. Expected 192 from C header, got 216 from PyObject\n",
      "  return f(*args, **kwds)\n",
      "/Users/jbenjamin/anaconda3/lib/python3.7/importlib/_bootstrap.py:219: RuntimeWarning: numpy.ufunc size changed, may indicate binary incompatibility. Expected 192 from C header, got 216 from PyObject\n",
      "  return f(*args, **kwds)\n",
      "/Users/jbenjamin/anaconda3/lib/python3.7/importlib/_bootstrap.py:219: RuntimeWarning: numpy.ufunc size changed, may indicate binary incompatibility. Expected 192 from C header, got 216 from PyObject\n",
      "  return f(*args, **kwds)\n",
      "/Users/jbenjamin/anaconda3/lib/python3.7/importlib/_bootstrap.py:219: RuntimeWarning: numpy.ufunc size changed, may indicate binary incompatibility. Expected 216, got 192\n",
      "  return f(*args, **kwds)\n",
      "/Users/jbenjamin/anaconda3/lib/python3.7/importlib/_bootstrap.py:219: RuntimeWarning: numpy.ufunc size changed, may indicate binary incompatibility. Expected 192 from C header, got 216 from PyObject\n",
      "  return f(*args, **kwds)\n",
      "/Users/jbenjamin/anaconda3/lib/python3.7/importlib/_bootstrap.py:219: RuntimeWarning: numpy.ufunc size changed, may indicate binary incompatibility. Expected 192 from C header, got 216 from PyObject\n",
      "  return f(*args, **kwds)\n",
      "/Users/jbenjamin/anaconda3/lib/python3.7/importlib/_bootstrap.py:219: RuntimeWarning: numpy.ufunc size changed, may indicate binary incompatibility. Expected 216, got 192\n",
      "  return f(*args, **kwds)\n"
     ]
    }
   ],
   "source": [
    "import numpy as np\n",
    "import pandas as pd\n",
    "import matplotlib.pyplot as plt\n",
    "import seaborn as sns\n",
    "%matplotlib inline\n",
    "from sklearn.linear_model import LinearRegression, Lasso, Ridge\n",
    "from sklearn.model_selection import train_test_split\n",
    "pd.set_option('display.max_columns', None)\n",
    "import missingno as msno\n",
    "import pdb\n",
    "from scipy import stats\n",
    "from sklearn.metrics import r2_score, mean_squared_error\n",
    "import statsmodels.api as sm\n",
    "from statsmodels.stats.outliers_influence import variance_inflation_factor"
   ]
  },
  {
   "cell_type": "markdown",
   "metadata": {},
   "source": [
    "## Read in Pickle"
   ]
  },
  {
   "cell_type": "code",
   "execution_count": 2,
   "metadata": {},
   "outputs": [],
   "source": [
    "cleaned_KC = pd.read_pickle('./data/cleaned_KC.pkl')"
   ]
  },
  {
   "cell_type": "markdown",
   "metadata": {},
   "source": [
    "## Convert Features to Categorical"
   ]
  },
  {
   "cell_type": "code",
   "execution_count": 3,
   "metadata": {},
   "outputs": [],
   "source": [
    "categorical_features = ['bathrooms','bedrooms','zipcode','yr_built','grade','condition','view','floors']"
   ]
  },
  {
   "cell_type": "code",
   "execution_count": 4,
   "metadata": {},
   "outputs": [
    {
     "name": "stdout",
     "output_type": "stream",
     "text": [
      "<class 'pandas.core.frame.DataFrame'>\n",
      "Int64Index: 21301 entries, 0 to 21347\n",
      "Data columns (total 15 columns):\n",
      "id               21301 non-null int64\n",
      "date             21301 non-null object\n",
      "price            21301 non-null float64\n",
      "bedrooms         21301 non-null category\n",
      "bathrooms        21301 non-null category\n",
      "sqft_living      21301 non-null int64\n",
      "sqft_lot         21301 non-null int64\n",
      "floors           21301 non-null category\n",
      "view             21301 non-null category\n",
      "condition        21301 non-null category\n",
      "grade            21301 non-null category\n",
      "yr_built         21301 non-null category\n",
      "zipcode          21301 non-null category\n",
      "sqft_living15    21301 non-null int64\n",
      "sqft_lot15       21301 non-null int64\n",
      "dtypes: category(8), float64(1), int64(5), object(1)\n",
      "memory usage: 1.5+ MB\n"
     ]
    }
   ],
   "source": [
    "# converts all categorical features to a categorical type\n",
    "for feature in categorical_features:\n",
    "    cleaned_KC[feature] = cleaned_KC[feature].astype('category')\n",
    "cleaned_KC.info()"
   ]
  },
  {
   "cell_type": "markdown",
   "metadata": {},
   "source": [
    "## Review Correlation and VIF "
   ]
  },
  {
   "cell_type": "markdown",
   "metadata": {},
   "source": [
    "#### Calculate Pearson's R Value"
   ]
  },
  {
   "cell_type": "code",
   "execution_count": 5,
   "metadata": {},
   "outputs": [
    {
     "data": {
      "text/plain": [
       "price            1.000000\n",
       "sqft_living      0.677350\n",
       "sqft_living15    0.593302\n",
       "sqft_lot         0.083969\n",
       "sqft_lot15       0.077855\n",
       "id              -0.015326\n",
       "Name: price, dtype: float64"
      ]
     },
     "execution_count": 5,
     "metadata": {},
     "output_type": "execute_result"
    }
   ],
   "source": [
    "cleaned_KC.corr()['price'].sort_values(ascending=False)"
   ]
  },
  {
   "cell_type": "markdown",
   "metadata": {},
   "source": [
    "#### Calculate VIF"
   ]
  },
  {
   "cell_type": "markdown",
   "metadata": {},
   "source": [
    "Based on the first run of the VIF, Sqft_living and sqft_living15 are thought to have multi-collinearity, thus we will drop sqft_living15"
   ]
  },
  {
   "cell_type": "code",
   "execution_count": 6,
   "metadata": {},
   "outputs": [
    {
     "data": {
      "text/html": [
       "<div>\n",
       "<style scoped>\n",
       "    .dataframe tbody tr th:only-of-type {\n",
       "        vertical-align: middle;\n",
       "    }\n",
       "\n",
       "    .dataframe tbody tr th {\n",
       "        vertical-align: top;\n",
       "    }\n",
       "\n",
       "    .dataframe thead th {\n",
       "        text-align: right;\n",
       "    }\n",
       "</style>\n",
       "<table border=\"1\" class=\"dataframe\">\n",
       "  <thead>\n",
       "    <tr style=\"text-align: right;\">\n",
       "      <th></th>\n",
       "      <th>VIF Factor</th>\n",
       "      <th>features</th>\n",
       "    </tr>\n",
       "  </thead>\n",
       "  <tbody>\n",
       "    <tr>\n",
       "      <th>0</th>\n",
       "      <td>6.6</td>\n",
       "      <td>price</td>\n",
       "    </tr>\n",
       "    <tr>\n",
       "      <th>1</th>\n",
       "      <td>7.0</td>\n",
       "      <td>sqft_living</td>\n",
       "    </tr>\n",
       "    <tr>\n",
       "      <th>2</th>\n",
       "      <td>2.3</td>\n",
       "      <td>sqft_lot</td>\n",
       "    </tr>\n",
       "    <tr>\n",
       "      <th>3</th>\n",
       "      <td>2.5</td>\n",
       "      <td>sqft_lot15</td>\n",
       "    </tr>\n",
       "  </tbody>\n",
       "</table>\n",
       "</div>"
      ],
      "text/plain": [
       "   VIF Factor     features\n",
       "0         6.6        price\n",
       "1         7.0  sqft_living\n",
       "2         2.3     sqft_lot\n",
       "3         2.5   sqft_lot15"
      ]
     },
     "execution_count": 6,
     "metadata": {},
     "output_type": "execute_result"
    }
   ],
   "source": [
    "# select only columns with datatype int64 or float 64\n",
    "numeric_cleaned_KC = cleaned_KC.select_dtypes(include=['int64','float64'])\n",
    "\n",
    "# then drop the sqft_living15 and id column to reduce noise.\n",
    "numeric_cleaned_KC = numeric_cleaned_KC.drop(axis=1, columns=['sqft_living15', 'id'])\n",
    "\n",
    "vif = pd.DataFrame()\n",
    "\n",
    "# For each column,run a variance_inflaction_factor against all other columns to get a VIF Factor score\n",
    "vif[\"VIF Factor\"] = [variance_inflation_factor(numeric_cleaned_KC.values, i) for i in range(numeric_cleaned_KC.shape[1])]\n",
    "\n",
    "# simply label the scores with their related columns\n",
    "vif[\"features\"] = numeric_cleaned_KC.columns\n",
    "\n",
    "vif.round(1)"
   ]
  },
  {
   "cell_type": "markdown",
   "metadata": {},
   "source": [
    "## Linear Regression\n",
    "##### Price vs Sqft_living"
   ]
  },
  {
   "cell_type": "markdown",
   "metadata": {},
   "source": [
    "#### Calculate Regression Line"
   ]
  },
  {
   "cell_type": "code",
   "execution_count": 7,
   "metadata": {},
   "outputs": [],
   "source": [
    "# Transforms a dataframe into a np.array\n",
    "X = cleaned_KC['sqft_living'].values.reshape(-1,1)\n",
    "y = cleaned_KC['price'].values.reshape(-1,1)\n",
    "\n",
    "# Create a Linear Regression object and fit a line using X and y\n",
    "reg = LinearRegression()\n",
    "reg.fit(X, y)\n",
    "\n",
    "# using that line, make predictions for y using X\n",
    "predictions = reg.predict(X)"
   ]
  },
  {
   "cell_type": "markdown",
   "metadata": {},
   "source": [
    "#### Plot Regression against Scatterplot"
   ]
  },
  {
   "cell_type": "code",
   "execution_count": 8,
   "metadata": {},
   "outputs": [],
   "source": [
    "# Look into Seaborns scatterplot for a new look"
   ]
  },
  {
   "cell_type": "code",
   "execution_count": 9,
   "metadata": {},
   "outputs": [
    {
     "data": {
      "image/png": "[encoded data removed]",
      "text/plain": [
       "<Figure size 1152x576 with 1 Axes>"
      ]
     },
     "metadata": {
      "needs_background": "light"
     },
     "output_type": "display_data"
    }
   ],
   "source": [
    "# Make a 16x8 figure that has...\n",
    "plt.figure(figsize=(16, 8))\n",
    "\n",
    "# ...a scatter plot of sqft_living vs price...\n",
    "plt.scatter(\n",
    "    cleaned_KC['sqft_living'],\n",
    "    cleaned_KC['price'],\n",
    "    c='black'\n",
    ")\n",
    "\n",
    "# ...plot the regression line...\n",
    "plt.plot(\n",
    "    cleaned_KC['sqft_living'],\n",
    "    predictions,\n",
    "    c='blue',\n",
    "    linewidth=1\n",
    ")\n",
    "\n",
    "# ...set the labels and show\n",
    "plt.xlabel(\"Sqft. Living\")\n",
    "plt.ylabel(\"Price)\")\n",
    "plt.show()"
   ]
  },
  {
   "cell_type": "markdown",
   "metadata": {},
   "source": [
    "#### Calculate OLS Regression Results"
   ]
  },
  {
   "cell_type": "code",
   "execution_count": 10,
   "metadata": {},
   "outputs": [
    {
     "name": "stdout",
     "output_type": "stream",
     "text": [
      "                            OLS Regression Results                            \n",
      "==============================================================================\n",
      "Dep. Variable:                  price   R-squared:                       0.459\n",
      "Model:                            OLS   Adj. R-squared:                  0.459\n",
      "Method:                 Least Squares   F-statistic:                 1.806e+04\n",
      "Date:                Mon, 30 Sep 2019   Prob (F-statistic):               0.00\n",
      "Time:                        16:12:16   Log-Likelihood:            -2.9433e+05\n",
      "No. Observations:               21301   AIC:                         5.887e+05\n",
      "Df Residuals:                   21299   BIC:                         5.887e+05\n",
      "Df Model:                           1                                         \n",
      "Covariance Type:            nonrobust                                         \n",
      "===============================================================================\n",
      "                  coef    std err          t      P>|t|      [0.025      0.975]\n",
      "-------------------------------------------------------------------------------\n",
      "const       -2283.2967   4289.244     -0.532      0.595   -1.07e+04    6123.945\n",
      "sqft_living   259.0821      1.928    134.374      0.000     255.303     262.861\n",
      "==============================================================================\n",
      "Omnibus:                    11308.248   Durbin-Watson:                   1.977\n",
      "Prob(Omnibus):                  0.000   Jarque-Bera (JB):           159818.403\n",
      "Skew:                           2.234   Prob(JB):                         0.00\n",
      "Kurtosis:                      15.653   Cond. No.                     5.74e+03\n",
      "==============================================================================\n",
      "\n",
      "Warnings:\n",
      "[1] Standard Errors assume that the covariance matrix of the errors is correctly specified.\n",
      "[2] The condition number is large, 5.74e+03. This might indicate that there are\n",
      "strong multicollinearity or other numerical problems.\n"
     ]
    },
    {
     "name": "stderr",
     "output_type": "stream",
     "text": [
      "/Users/jbenjamin/anaconda3/lib/python3.7/site-packages/numpy/core/fromnumeric.py:2389: FutureWarning: Method .ptp is deprecated and will be removed in a future version. Use numpy.ptp instead.\n",
      "  return ptp(axis=axis, out=out, **kwargs)\n"
     ]
    }
   ],
   "source": [
    "X = cleaned_KC['sqft_living']\n",
    "y = cleaned_KC['price']\n",
    "X2 = sm.add_constant(X)\n",
    "est = sm.OLS(y, X2).fit()\n",
    "print(est.summary())"
   ]
  },
  {
   "cell_type": "markdown",
   "metadata": {},
   "source": [
    "### <span style=\"color:blue\">Our Linear Regression R-Squared result:</span><span style=\"color:red\"> .52</span>"
   ]
  },
  {
   "cell_type": "markdown",
   "metadata": {},
   "source": [
    "## Multiple Linear Regression including Categorical Variables\n",
    "### Run Train/Test split"
   ]
  },
  {
   "cell_type": "markdown",
   "metadata": {},
   "source": [
    "#### convert to dummy variables dataframe"
   ]
  },
  {
   "cell_type": "code",
   "execution_count": 11,
   "metadata": {},
   "outputs": [
    {
     "name": "stderr",
     "output_type": "stream",
     "text": [
      "/Users/jbenjamin/anaconda3/lib/python3.7/site-packages/sklearn/preprocessing/data.py:645: DataConversionWarning: Data with input dtype int64, float64 were all converted to float64 by StandardScaler.\n",
      "  return self.partial_fit(X, y)\n",
      "/Users/jbenjamin/anaconda3/lib/python3.7/site-packages/sklearn/base.py:464: DataConversionWarning: Data with input dtype int64, float64 were all converted to float64 by StandardScaler.\n",
      "  return self.fit(X, **fit_params).transform(X)\n",
      "/Users/jbenjamin/anaconda3/lib/python3.7/site-packages/sklearn/preprocessing/_encoders.py:371: FutureWarning: The handling of integer data will change in version 0.22. Currently, the categories are determined based on the range [0, max(values)], while in the future they will be determined based on the unique values.\n",
      "If you want the future behaviour and silence this warning, you can specify \"categories='auto'\".\n",
      "In case you used a LabelEncoder before this OneHotEncoder to convert the categories to integers, then you can now use the OneHotEncoder directly.\n",
      "  warnings.warn(msg, FutureWarning)\n"
     ]
    },
    {
     "data": {
      "text/html": [
       "<div>\n",
       "<style scoped>\n",
       "    .dataframe tbody tr th:only-of-type {\n",
       "        vertical-align: middle;\n",
       "    }\n",
       "\n",
       "    .dataframe tbody tr th {\n",
       "        vertical-align: top;\n",
       "    }\n",
       "\n",
       "    .dataframe thead th {\n",
       "        text-align: right;\n",
       "    }\n",
       "</style>\n",
       "<table border=\"1\" class=\"dataframe\">\n",
       "  <thead>\n",
       "    <tr style=\"text-align: right;\">\n",
       "      <th></th>\n",
       "      <th>0</th>\n",
       "      <th>1</th>\n",
       "      <th>2</th>\n",
       "      <th>3</th>\n",
       "      <th>4</th>\n",
       "      <th>5</th>\n",
       "      <th>6</th>\n",
       "      <th>7</th>\n",
       "      <th>8</th>\n",
       "      <th>9</th>\n",
       "      <th>10</th>\n",
       "      <th>11</th>\n",
       "      <th>12</th>\n",
       "      <th>13</th>\n",
       "      <th>14</th>\n",
       "      <th>15</th>\n",
       "      <th>16</th>\n",
       "      <th>17</th>\n",
       "      <th>18</th>\n",
       "      <th>19</th>\n",
       "      <th>20</th>\n",
       "      <th>21</th>\n",
       "      <th>22</th>\n",
       "      <th>23</th>\n",
       "      <th>24</th>\n",
       "      <th>25</th>\n",
       "      <th>26</th>\n",
       "      <th>27</th>\n",
       "      <th>28</th>\n",
       "      <th>29</th>\n",
       "      <th>30</th>\n",
       "      <th>31</th>\n",
       "      <th>32</th>\n",
       "      <th>33</th>\n",
       "    </tr>\n",
       "  </thead>\n",
       "  <tbody>\n",
       "    <tr>\n",
       "      <th>0</th>\n",
       "      <td>-0.932072</td>\n",
       "      <td>-0.226712</td>\n",
       "      <td>-0.945868</td>\n",
       "      <td>-0.263050</td>\n",
       "      <td>0.0</td>\n",
       "      <td>1.0</td>\n",
       "      <td>0.0</td>\n",
       "      <td>0.0</td>\n",
       "      <td>0.0</td>\n",
       "      <td>0.0</td>\n",
       "      <td>0.0</td>\n",
       "      <td>1.0</td>\n",
       "      <td>0.0</td>\n",
       "      <td>0.0</td>\n",
       "      <td>0.0</td>\n",
       "      <td>0.0</td>\n",
       "      <td>0.0</td>\n",
       "      <td>0.0</td>\n",
       "      <td>0.0</td>\n",
       "      <td>1.0</td>\n",
       "      <td>0.0</td>\n",
       "      <td>0.0</td>\n",
       "      <td>0.0</td>\n",
       "      <td>0.0</td>\n",
       "      <td>0.0</td>\n",
       "      <td>0.0</td>\n",
       "      <td>1.0</td>\n",
       "      <td>0.0</td>\n",
       "      <td>0.0</td>\n",
       "      <td>0.0</td>\n",
       "      <td>0.0</td>\n",
       "      <td>1.0</td>\n",
       "      <td>0.0</td>\n",
       "      <td>0.0</td>\n",
       "    </tr>\n",
       "    <tr>\n",
       "      <th>1</th>\n",
       "      <td>0.027033</td>\n",
       "      <td>-0.187680</td>\n",
       "      <td>-0.425240</td>\n",
       "      <td>-0.188067</td>\n",
       "      <td>0.0</td>\n",
       "      <td>0.0</td>\n",
       "      <td>1.0</td>\n",
       "      <td>0.0</td>\n",
       "      <td>0.0</td>\n",
       "      <td>0.0</td>\n",
       "      <td>0.0</td>\n",
       "      <td>1.0</td>\n",
       "      <td>0.0</td>\n",
       "      <td>0.0</td>\n",
       "      <td>0.0</td>\n",
       "      <td>0.0</td>\n",
       "      <td>0.0</td>\n",
       "      <td>0.0</td>\n",
       "      <td>0.0</td>\n",
       "      <td>1.0</td>\n",
       "      <td>0.0</td>\n",
       "      <td>0.0</td>\n",
       "      <td>0.0</td>\n",
       "      <td>0.0</td>\n",
       "      <td>0.0</td>\n",
       "      <td>0.0</td>\n",
       "      <td>1.0</td>\n",
       "      <td>0.0</td>\n",
       "      <td>0.0</td>\n",
       "      <td>0.0</td>\n",
       "      <td>0.0</td>\n",
       "      <td>0.0</td>\n",
       "      <td>1.0</td>\n",
       "      <td>0.0</td>\n",
       "    </tr>\n",
       "    <tr>\n",
       "      <th>2</th>\n",
       "      <td>-1.059204</td>\n",
       "      <td>-0.120060</td>\n",
       "      <td>1.106895</td>\n",
       "      <td>-0.172120</td>\n",
       "      <td>0.0</td>\n",
       "      <td>1.0</td>\n",
       "      <td>0.0</td>\n",
       "      <td>0.0</td>\n",
       "      <td>0.0</td>\n",
       "      <td>0.0</td>\n",
       "      <td>1.0</td>\n",
       "      <td>0.0</td>\n",
       "      <td>0.0</td>\n",
       "      <td>0.0</td>\n",
       "      <td>0.0</td>\n",
       "      <td>0.0</td>\n",
       "      <td>0.0</td>\n",
       "      <td>0.0</td>\n",
       "      <td>1.0</td>\n",
       "      <td>0.0</td>\n",
       "      <td>0.0</td>\n",
       "      <td>0.0</td>\n",
       "      <td>0.0</td>\n",
       "      <td>0.0</td>\n",
       "      <td>0.0</td>\n",
       "      <td>0.0</td>\n",
       "      <td>1.0</td>\n",
       "      <td>0.0</td>\n",
       "      <td>0.0</td>\n",
       "      <td>0.0</td>\n",
       "      <td>0.0</td>\n",
       "      <td>1.0</td>\n",
       "      <td>0.0</td>\n",
       "      <td>0.0</td>\n",
       "    </tr>\n",
       "    <tr>\n",
       "      <th>3</th>\n",
       "      <td>0.227289</td>\n",
       "      <td>-0.242648</td>\n",
       "      <td>-0.916118</td>\n",
       "      <td>-0.287555</td>\n",
       "      <td>0.0</td>\n",
       "      <td>0.0</td>\n",
       "      <td>0.0</td>\n",
       "      <td>1.0</td>\n",
       "      <td>0.0</td>\n",
       "      <td>0.0</td>\n",
       "      <td>0.0</td>\n",
       "      <td>0.0</td>\n",
       "      <td>1.0</td>\n",
       "      <td>0.0</td>\n",
       "      <td>0.0</td>\n",
       "      <td>0.0</td>\n",
       "      <td>0.0</td>\n",
       "      <td>0.0</td>\n",
       "      <td>0.0</td>\n",
       "      <td>1.0</td>\n",
       "      <td>0.0</td>\n",
       "      <td>0.0</td>\n",
       "      <td>0.0</td>\n",
       "      <td>0.0</td>\n",
       "      <td>0.0</td>\n",
       "      <td>0.0</td>\n",
       "      <td>1.0</td>\n",
       "      <td>0.0</td>\n",
       "      <td>0.0</td>\n",
       "      <td>0.0</td>\n",
       "      <td>0.0</td>\n",
       "      <td>1.0</td>\n",
       "      <td>0.0</td>\n",
       "      <td>0.0</td>\n",
       "    </tr>\n",
       "    <tr>\n",
       "      <th>4</th>\n",
       "      <td>-0.057924</td>\n",
       "      <td>-0.167134</td>\n",
       "      <td>-0.261614</td>\n",
       "      <td>-0.193194</td>\n",
       "      <td>0.0</td>\n",
       "      <td>0.0</td>\n",
       "      <td>1.0</td>\n",
       "      <td>0.0</td>\n",
       "      <td>0.0</td>\n",
       "      <td>0.0</td>\n",
       "      <td>0.0</td>\n",
       "      <td>1.0</td>\n",
       "      <td>0.0</td>\n",
       "      <td>0.0</td>\n",
       "      <td>0.0</td>\n",
       "      <td>0.0</td>\n",
       "      <td>0.0</td>\n",
       "      <td>0.0</td>\n",
       "      <td>0.0</td>\n",
       "      <td>0.0</td>\n",
       "      <td>1.0</td>\n",
       "      <td>0.0</td>\n",
       "      <td>0.0</td>\n",
       "      <td>0.0</td>\n",
       "      <td>0.0</td>\n",
       "      <td>0.0</td>\n",
       "      <td>1.0</td>\n",
       "      <td>0.0</td>\n",
       "      <td>0.0</td>\n",
       "      <td>0.0</td>\n",
       "      <td>0.0</td>\n",
       "      <td>1.0</td>\n",
       "      <td>0.0</td>\n",
       "      <td>0.0</td>\n",
       "    </tr>\n",
       "  </tbody>\n",
       "</table>\n",
       "</div>"
      ],
      "text/plain": [
       "         0         1         2         3    4    5    6    7    8    9    10  \\\n",
       "0 -0.932072 -0.226712 -0.945868 -0.263050  0.0  1.0  0.0  0.0  0.0  0.0  0.0   \n",
       "1  0.027033 -0.187680 -0.425240 -0.188067  0.0  0.0  1.0  0.0  0.0  0.0  0.0   \n",
       "2 -1.059204 -0.120060  1.106895 -0.172120  0.0  1.0  0.0  0.0  0.0  0.0  1.0   \n",
       "3  0.227289 -0.242648 -0.916118 -0.287555  0.0  0.0  0.0  1.0  0.0  0.0  0.0   \n",
       "4 -0.057924 -0.167134 -0.261614 -0.193194  0.0  0.0  1.0  0.0  0.0  0.0  0.0   \n",
       "\n",
       "    11   12   13   14   15   16   17   18   19   20   21   22   23   24   25  \\\n",
       "0  1.0  0.0  0.0  0.0  0.0  0.0  0.0  0.0  1.0  0.0  0.0  0.0  0.0  0.0  0.0   \n",
       "1  1.0  0.0  0.0  0.0  0.0  0.0  0.0  0.0  1.0  0.0  0.0  0.0  0.0  0.0  0.0   \n",
       "2  0.0  0.0  0.0  0.0  0.0  0.0  0.0  1.0  0.0  0.0  0.0  0.0  0.0  0.0  0.0   \n",
       "3  0.0  1.0  0.0  0.0  0.0  0.0  0.0  0.0  1.0  0.0  0.0  0.0  0.0  0.0  0.0   \n",
       "4  1.0  0.0  0.0  0.0  0.0  0.0  0.0  0.0  0.0  1.0  0.0  0.0  0.0  0.0  0.0   \n",
       "\n",
       "    26   27   28   29   30   31   32   33  \n",
       "0  1.0  0.0  0.0  0.0  0.0  1.0  0.0  0.0  \n",
       "1  1.0  0.0  0.0  0.0  0.0  0.0  1.0  0.0  \n",
       "2  1.0  0.0  0.0  0.0  0.0  1.0  0.0  0.0  \n",
       "3  1.0  0.0  0.0  0.0  0.0  1.0  0.0  0.0  \n",
       "4  1.0  0.0  0.0  0.0  0.0  1.0  0.0  0.0  "
      ]
     },
     "execution_count": 11,
     "metadata": {},
     "output_type": "execute_result"
    }
   ],
   "source": [
    "from sklearn.preprocessing import StandardScaler, OneHotEncoder\n",
    "from sklearn.compose import ColumnTransformer, make_column_transformer\n",
    "\n",
    "# target = titanic2.survived.values\n",
    "# features = titanic2[['pclass', 'sex', 'age', 'fare', 'embarked']]\n",
    "\n",
    "# This dataset contains some categorical variables (\"pclass\", \"sex\" and \"embarked\")\n",
    "categorial_columns = ['bathrooms','bedrooms','grade','view','floors']\n",
    "\n",
    "# numerical variables (\"age\" and \"fare\").\n",
    "numerical_columns = ['price','sqft_lot','sqft_living15', 'sqft_lot15']\n",
    "\n",
    "preprocess = make_column_transformer(\n",
    "    (numerical_columns, StandardScaler()),\n",
    "    (categorial_columns, OneHotEncoder())\n",
    ")\n",
    "\n",
    "test_array = preprocess.fit_transform(cleaned_KC).toarray()\n",
    "\n",
    "test_df = pd.DataFrame(test_array)\n",
    "test_df.head()"
   ]
  },
  {
   "cell_type": "code",
   "execution_count": 12,
   "metadata": {},
   "outputs": [],
   "source": [
    "categorial_columns = ['bathrooms','bedrooms','grade','view','floors']\n",
    "non_categorial_columns = ['id','date','price','sqft_lot','condition','yr_built','zipcode','sqft_living15', 'sqft_lot15']\n",
    "\n",
    "# This replaces categorical columns with dummy variables, and drops non categorical columns\n",
    "dummies_df = pd.get_dummies(cleaned_KC, columns=categorial_columns).drop(columns=non_categorial_columns)"
   ]
  },
  {
   "cell_type": "markdown",
   "metadata": {},
   "source": [
    "#### Create X & Y Train/Test variables"
   ]
  },
  {
   "cell_type": "code",
   "execution_count": 13,
   "metadata": {},
   "outputs": [],
   "source": [
    "# This sets X to a dataframe consisting of columns with dummy variables & without extra columns.\n",
    "X = dummies_df\n",
    "\n",
    "# this simply sets y to the price column of the dataframe\n",
    "y = cleaned_KC['price']\n",
    "\n",
    "# This runs a train/test split with .20 of the data. \n",
    "X_train, X_test, y_train, y_test = train_test_split(X, y, test_size = 0.2)"
   ]
  },
  {
   "cell_type": "markdown",
   "metadata": {},
   "source": [
    "#### Calculate OLS"
   ]
  },
  {
   "cell_type": "code",
   "execution_count": 14,
   "metadata": {},
   "outputs": [
    {
     "name": "stderr",
     "output_type": "stream",
     "text": [
      "/Users/jbenjamin/anaconda3/lib/python3.7/site-packages/numpy/core/fromnumeric.py:2389: FutureWarning: Method .ptp is deprecated and will be removed in a future version. Use numpy.ptp instead.\n",
      "  return ptp(axis=axis, out=out, **kwargs)\n"
     ]
    },
    {
     "name": "stdout",
     "output_type": "stream",
     "text": [
      "                            OLS Regression Results                            \n",
      "==============================================================================\n",
      "Dep. Variable:                  price   R-squared:                       0.615\n",
      "Model:                            OLS   Adj. R-squared:                  0.615\n",
      "Method:                 Least Squares   F-statistic:                     680.1\n",
      "Date:                Mon, 30 Sep 2019   Prob (F-statistic):               0.00\n",
      "Time:                        16:15:05   Log-Likelihood:            -2.3259e+05\n",
      "No. Observations:               17040   AIC:                         4.653e+05\n",
      "Df Residuals:                   16999   BIC:                         4.656e+05\n",
      "Df Model:                          40                                         \n",
      "Covariance Type:            nonrobust                                         \n",
      "==================================================================================\n",
      "                     coef    std err          t      P>|t|      [0.025      0.975]\n",
      "----------------------------------------------------------------------------------\n",
      "const           4.258e+05   1.94e+04     21.898      0.000    3.88e+05    4.64e+05\n",
      "sqft_living      139.2734      3.788     36.762      0.000     131.848     146.699\n",
      "bathrooms_0.5   6543.5464   1.94e+05      0.034      0.973   -3.73e+05    3.86e+05\n",
      "bathrooms_0.75 -5587.0539    3.2e+04     -0.174      0.862   -6.84e+04    5.72e+04\n",
      "bathrooms_1.0   3523.1933   1.49e+04      0.237      0.813   -2.56e+04    3.27e+04\n",
      "bathrooms_1.25  1.099e+04      8e+04      0.137      0.891   -1.46e+05    1.68e+05\n",
      "bathrooms_1.5  -1.083e+04   1.52e+04     -0.710      0.478   -4.07e+04    1.91e+04\n",
      "bathrooms_1.75 -8327.1536   1.47e+04     -0.567      0.571   -3.71e+04    2.05e+04\n",
      "bathrooms_2.0  -7795.3294   1.49e+04     -0.523      0.601    -3.7e+04    2.14e+04\n",
      "bathrooms_2.25 -6554.9835   1.48e+04     -0.442      0.658   -3.56e+04    2.25e+04\n",
      "bathrooms_2.5  -5.955e+04   1.44e+04     -4.140      0.000   -8.78e+04   -3.14e+04\n",
      "bathrooms_2.75 -2.367e+04   1.54e+04     -1.538      0.124   -5.38e+04    6494.952\n",
      "bathrooms_3.0   7054.5393   1.61e+04      0.439      0.661   -2.45e+04    3.86e+04\n",
      "bathrooms_3.25  6.767e+04   1.68e+04      4.024      0.000    3.47e+04    1.01e+05\n",
      "bathrooms_3.5  -8901.9374   1.64e+04     -0.543      0.587    -4.1e+04    2.32e+04\n",
      "bathrooms_3.75  1.223e+05   2.26e+04      5.422      0.000    7.81e+04    1.67e+05\n",
      "bathrooms_4.0   1.044e+05   2.43e+04      4.300      0.000    5.68e+04    1.52e+05\n",
      "bathrooms_4.25  2.345e+05   2.88e+04      8.151      0.000    1.78e+05    2.91e+05\n",
      "bedrooms_1      9.898e+04   1.52e+04      6.529      0.000    6.93e+04    1.29e+05\n",
      "bedrooms_2      1.202e+05   6447.835     18.639      0.000    1.08e+05    1.33e+05\n",
      "bedrooms_3      6.987e+04   5471.708     12.769      0.000    5.91e+04    8.06e+04\n",
      "bedrooms_4      5.702e+04   5919.945      9.633      0.000    4.54e+04    6.86e+04\n",
      "bedrooms_5      5.936e+04   7654.365      7.755      0.000    4.44e+04    7.44e+04\n",
      "bedrooms_6       2.04e+04   1.42e+04      1.432      0.152   -7524.774    4.83e+04\n",
      "grade_3        -2.663e+05    1.9e+05     -1.402      0.161   -6.39e+05    1.06e+05\n",
      "grade_4        -3.635e+05   4.73e+04     -7.686      0.000   -4.56e+05   -2.71e+05\n",
      "grade_5        -3.759e+05   2.45e+04    -15.313      0.000   -4.24e+05   -3.28e+05\n",
      "grade_6        -3.356e+05   2.14e+04    -15.685      0.000   -3.77e+05   -2.94e+05\n",
      "grade_7         -2.67e+05   2.09e+04    -12.784      0.000   -3.08e+05   -2.26e+05\n",
      "grade_8        -1.799e+05   2.09e+04     -8.629      0.000   -2.21e+05   -1.39e+05\n",
      "grade_9        -4.793e+04   2.11e+04     -2.275      0.023   -8.92e+04   -6636.780\n",
      "grade_10        1.117e+05   2.17e+04      5.145      0.000    6.92e+04    1.54e+05\n",
      "grade_11         3.25e+05   2.41e+04     13.489      0.000    2.78e+05    3.72e+05\n",
      "grade_12        6.841e+05   3.37e+04     20.318      0.000    6.18e+05     7.5e+05\n",
      "grade_13        1.141e+06   8.68e+04     13.148      0.000    9.71e+05    1.31e+06\n",
      "view_0.0       -8.842e+04   5812.708    -15.212      0.000   -9.98e+04    -7.7e+04\n",
      "view_1.0        7.444e+04   1.17e+04      6.358      0.000    5.15e+04    9.74e+04\n",
      "view_2.0        4066.6093   8158.237      0.498      0.618   -1.19e+04    2.01e+04\n",
      "view_3.0        6.894e+04   1.03e+04      6.711      0.000    4.88e+04    8.91e+04\n",
      "view_4.0        3.668e+05   1.24e+04     29.649      0.000    3.43e+05    3.91e+05\n",
      "floors_1.0      2.507e+04   1.63e+04      1.541      0.123   -6828.948     5.7e+04\n",
      "floors_1.5      1.135e+05   1.68e+04      6.744      0.000    8.05e+04    1.46e+05\n",
      "floors_2.0      -686.4927   1.63e+04     -0.042      0.966   -3.25e+04    3.12e+04\n",
      "floors_2.5       1.52e+05   2.23e+04      6.825      0.000    1.08e+05    1.96e+05\n",
      "floors_3.0        5.4e+04   1.79e+04      3.012      0.003    1.89e+04    8.91e+04\n",
      "floors_3.5      8.199e+04   8.74e+04      0.938      0.348   -8.93e+04    2.53e+05\n",
      "==============================================================================\n",
      "Omnibus:                     7567.697   Durbin-Watson:                   1.985\n",
      "Prob(Omnibus):                  0.000   Jarque-Bera (JB):            93968.758\n",
      "Skew:                           1.801   Prob(JB):                         0.00\n",
      "Kurtosis:                      13.926   Cond. No.                     1.44e+16\n",
      "==============================================================================\n",
      "\n",
      "Warnings:\n",
      "[1] Standard Errors assume that the covariance matrix of the errors is correctly specified.\n",
      "[2] The smallest eigenvalue is 4.05e-22. This might indicate that there are\n",
      "strong multicollinearity problems or that the design matrix is singular.\n"
     ]
    }
   ],
   "source": [
    "# Simply adding a y-intercept column.\n",
    "X2 = sm.add_constant(X_train)\n",
    "\n",
    "# Using statsmodels, run an Ordinary Least Squares test using the array of y values, and the dataframe of x_test values and fit a line to it. \n",
    "est = sm.OLS(y_train, X2).fit()\n",
    "print(est.summary())"
   ]
  },
  {
   "cell_type": "markdown",
   "metadata": {},
   "source": [
    "#### Calculate skLearn r2"
   ]
  },
  {
   "cell_type": "code",
   "execution_count": 15,
   "metadata": {},
   "outputs": [
    {
     "data": {
      "text/plain": [
       "0.6262166583650244"
      ]
     },
     "execution_count": 15,
     "metadata": {},
     "output_type": "execute_result"
    }
   ],
   "source": [
    "# Creates a Linear Regression object\n",
    "lin_reg = LinearRegression()\n",
    "\n",
    "# Train the Regression object to fit a line with train data\n",
    "lin_reg.fit(X_train, y_train)\n",
    "\n",
    "# using that line, predict y values against x_test values.\n",
    "y_pred = lin_reg.predict(X_test)\n",
    "\n",
    "# Use sklearn.metrics.r2_score to determine r-squared based on y_test values and y_pred values.\n",
    "r2_score(y_test, y_pred)"
   ]
  },
  {
   "cell_type": "markdown",
   "metadata": {},
   "source": [
    "### <span style=\"color:blue\">Our Multiple Linear Regression R-Squared result:</span><span style=\"color:green\"> .62</span>"
   ]
  },
  {
   "cell_type": "markdown",
   "metadata": {},
   "source": [
    "#### Calculate skLearn MSE"
   ]
  },
  {
   "cell_type": "code",
   "execution_count": 16,
   "metadata": {},
   "outputs": [
    {
     "data": {
      "text/plain": [
       "39659678425.951904"
      ]
     },
     "execution_count": 16,
     "metadata": {},
     "output_type": "execute_result"
    }
   ],
   "source": [
    "mean_squared_error(y_test, y_pred)"
   ]
  },
  {
   "cell_type": "markdown",
   "metadata": {},
   "source": [
    "# Lasso/Ridge"
   ]
  },
  {
   "cell_type": "code",
   "execution_count": 20,
   "metadata": {},
   "outputs": [],
   "source": [
    "from sklearn.linear_model import Lasso\n",
    "from sklearn.model_selection import GridSearchCV"
   ]
  },
  {
   "cell_type": "code",
   "execution_count": 26,
   "metadata": {},
   "outputs": [
    {
     "name": "stderr",
     "output_type": "stream",
     "text": [
      "/Users/jbenjamin/anaconda3/lib/python3.7/site-packages/sklearn/linear_model/ridge.py:125: LinAlgWarning: Ill-conditioned matrix (rcond=3.97077e-20): result may not be accurate.\n",
      "  overwrite_a=True).T\n",
      "/Users/jbenjamin/anaconda3/lib/python3.7/site-packages/sklearn/linear_model/ridge.py:125: LinAlgWarning: Ill-conditioned matrix (rcond=3.97583e-20): result may not be accurate.\n",
      "  overwrite_a=True).T\n",
      "/Users/jbenjamin/anaconda3/lib/python3.7/site-packages/sklearn/linear_model/ridge.py:125: LinAlgWarning: Ill-conditioned matrix (rcond=3.91362e-20): result may not be accurate.\n",
      "  overwrite_a=True).T\n",
      "/Users/jbenjamin/anaconda3/lib/python3.7/site-packages/sklearn/linear_model/ridge.py:125: LinAlgWarning: Ill-conditioned matrix (rcond=4.04474e-20): result may not be accurate.\n",
      "  overwrite_a=True).T\n",
      "/Users/jbenjamin/anaconda3/lib/python3.7/site-packages/sklearn/linear_model/ridge.py:125: LinAlgWarning: Ill-conditioned matrix (rcond=3.87387e-20): result may not be accurate.\n",
      "  overwrite_a=True).T\n",
      "/Users/jbenjamin/anaconda3/lib/python3.7/site-packages/sklearn/linear_model/ridge.py:125: LinAlgWarning: Ill-conditioned matrix (rcond=4.01486e-18): result may not be accurate.\n",
      "  overwrite_a=True).T\n",
      "/Users/jbenjamin/anaconda3/lib/python3.7/site-packages/sklearn/linear_model/ridge.py:125: LinAlgWarning: Ill-conditioned matrix (rcond=3.98772e-18): result may not be accurate.\n",
      "  overwrite_a=True).T\n",
      "/Users/jbenjamin/anaconda3/lib/python3.7/site-packages/sklearn/linear_model/ridge.py:125: LinAlgWarning: Ill-conditioned matrix (rcond=3.93715e-18): result may not be accurate.\n",
      "  overwrite_a=True).T\n",
      "/Users/jbenjamin/anaconda3/lib/python3.7/site-packages/sklearn/linear_model/ridge.py:125: LinAlgWarning: Ill-conditioned matrix (rcond=4.05531e-18): result may not be accurate.\n",
      "  overwrite_a=True).T\n",
      "/Users/jbenjamin/anaconda3/lib/python3.7/site-packages/sklearn/linear_model/ridge.py:125: LinAlgWarning: Ill-conditioned matrix (rcond=3.89576e-18): result may not be accurate.\n",
      "  overwrite_a=True).T\n"
     ]
    },
    {
     "data": {
      "text/plain": [
       "GridSearchCV(cv=5, error_score='raise-deprecating',\n",
       "       estimator=Ridge(alpha=1.0, copy_X=True, fit_intercept=True, max_iter=None,\n",
       "   normalize=False, random_state=None, solver='auto', tol=0.001),\n",
       "       fit_params=None, iid='warn', n_jobs=None,\n",
       "       param_grid={'alpha': [1e-15, 1e-10, 1e-08, 0.0001, 0.001, 0.01, 1, 5, 10, 20]},\n",
       "       pre_dispatch='2*n_jobs', refit=True, return_train_score='warn',\n",
       "       scoring='neg_mean_squared_error', verbose=0)"
      ]
     },
     "execution_count": 26,
     "metadata": {},
     "output_type": "execute_result"
    }
   ],
   "source": [
    "lasso = Lasso()\n",
    "ridge = Ridge()\n",
    "parameters = {'alpha': [1e-15,1e-10,1e-8,1e-4,1e-3,1e-2,1,5,10,20]}\n",
    "ridge_regressor = GridSearchCV(ridge, parameters, scoring='neg_mean_squared_error', cv = 5)\n",
    "ridge_regressor.fit(X_test,y_test)"
   ]
  },
  {
   "cell_type": "code",
   "execution_count": 27,
   "metadata": {},
   "outputs": [
    {
     "name": "stdout",
     "output_type": "stream",
     "text": [
      "{'alpha': 1}\n",
      "-40577836999.0048\n"
     ]
    }
   ],
   "source": [
    "print(ridge_regressor.best_params_)\n",
    "print(ridge_regressor.best_score_)"
   ]
  },
  {
   "cell_type": "code",
   "execution_count": null,
   "metadata": {},
   "outputs": [],
   "source": []
  }
 ],
 "metadata": {
  "kernelspec": {
   "display_name": "Python 3",
   "language": "python",
   "name": "python3"
  },
  "language_info": {
   "codemirror_mode": {
    "name": "ipython",
    "version": 3
   },
   "file_extension": ".py",
   "mimetype": "text/x-python",
   "name": "python",
   "nbconvert_exporter": "python",
   "pygments_lexer": "ipython3",
   "version": "3.7.3"
  }
 },
 "nbformat": 4,
 "nbformat_minor": 4
}
